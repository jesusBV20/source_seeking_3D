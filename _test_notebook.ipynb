{
 "cells": [
  {
   "cell_type": "code",
   "execution_count": 1,
   "metadata": {},
   "outputs": [],
   "source": [
    "\"\"\"\\\n",
    "# Copyright (C) 2024 Jesús Bautista Villar <jesbauti20@gmail.com>\n",
    "- Testing a proportional 3D heading control algorithm -\n",
    "\"\"\"\n",
    "\n",
    "import os\n",
    "import numpy as np\n",
    "\n",
    "# -- Graphic tools --\n",
    "import matplotlib.pyplot as plt\n",
    "\n",
    "# -- Our utils --\n",
    "from simulations.utils.tools_math import *\n",
    "from simulations.utils.tools_plot import *\n",
    "\n",
    "from simulations.utils.tools_basic import createDir\n",
    "from simulations.sim_test import sim_test\n",
    "from simulations.sim_ss_test import sim_ss_test\n",
    "\n",
    "from simulations.utils.tools_math import rot_3d_matrix, so3_hat, so3_vee, theta_distance_from_R, exp_map, log_map_of_R"
   ]
  },
  {
   "cell_type": "code",
   "execution_count": 2,
   "metadata": {},
   "outputs": [
    {
     "name": "stdout",
     "output_type": "stream",
     "text": [
      "[[ 0.     -0.7309 -0.1264]\n",
      " [ 0.7309  0.      0.1033]\n",
      " [ 0.1264 -0.1033  0.    ]] \n",
      "---\n",
      "[[-0.      0.2974  0.8668]\n",
      " [-0.2974  0.     -0.2358]\n",
      " [-0.8668  0.2358  0.    ]] \n",
      "---\n",
      "[[ 0.      0.2901  0.874 ]\n",
      " [-0.2901  0.     -0.2393]\n",
      " [-0.874   0.2393  0.    ]] \n",
      "---\n",
      "[[-0.      0.2901  0.874 ]\n",
      " [-0.2901 -0.     -0.2393]\n",
      " [-0.874   0.2393 -0.    ]] \n",
      "---\n"
     ]
    }
   ],
   "source": [
    "Ra = rot_3d_matrix(np.pi, np.pi/2, 0)\n",
    "R1 = rot_3d_matrix(np.pi/3, 0, 0)\n",
    "kw = 1\n",
    "\n",
    "def omega_law(Ra, R, omega_a=np.array([0,0,0])):\n",
    "    Re = Ra.T @ R\n",
    "    Omega_a = so3_hat(omega_a)\n",
    "    return -kw*log_map_of_R(Re) + Re.T@Omega_a@Re\n",
    "\n",
    "alpha_list = np.linspace(0,np.pi,100)\n",
    "\n",
    "data = np.zeros((4,len(alpha_list),3,3))\n",
    "for i,alpha in enumerate(alpha_list):\n",
    "    R2 = rot_3d_matrix(alpha, alpha/2, 0)\n",
    "    R12 = R2.T @ R1\n",
    "\n",
    "    Omega_1 = omega_law(Ra,R1)\n",
    "    Omega_2 = omega_law(Ra,R2)\n",
    "\n",
    "    data[0,i,...] = log_map_of_R(R2.T@R1)\n",
    "    data[1,i,...] = (Omega_1 - R12.T @ Omega_2 @ R12)\n",
    "    data[2,i,...] = so3_hat(so3_vee(Omega_1) - R12.T @ so3_vee(Omega_2)) # (omega_law(Ra,R1) - R1.T @ omega_law(Ra,R2) @ R1)\n",
    "    data[3,i,...] = -kw*so3_hat(so3_vee(log_map_of_R(Ra.T @ R1)) - R12.T @ so3_vee(log_map_of_R(Ra.T @ R2)))\n",
    "\n",
    "\n",
    "\n",
    "li = 10\n",
    "with np.printoptions(precision=4, suppress=True):\n",
    "    print(data[0,li,...], \"\\n---\")\n",
    "    print(data[1,li,...], \"\\n---\")\n",
    "    print(data[2,li,...], \"\\n---\")\n",
    "    print(data[3,li,...], \"\\n---\")\n",
    "    #print(data[4,li,...], \"\\n---\")"
   ]
  },
  {
   "cell_type": "code",
   "execution_count": 5,
   "metadata": {},
   "outputs": [
    {
     "name": "stdout",
     "output_type": "stream",
     "text": [
      "[[ 1.     0.    -0.   ]\n",
      " [-0.     1.003 -0.   ]\n",
      " [ 0.     0.     1.003]]\n"
     ]
    },
    {
     "data": {
      "image/png": "[encoded data removed]",
      "text/plain": [
       "<Figure size 640x480 with 1 Axes>"
      ]
     },
     "metadata": {},
     "output_type": "display_data"
    }
   ],
   "source": [
    "kw = 1\n",
    "Ra = rot_3d_matrix(np.pi, -np.pi/2, 0)\n",
    "\n",
    "R1 = rot_3d_matrix(np.pi/3, 0, 0)\n",
    "R2 = rot_3d_matrix(0, np.pi/3, 0)\n",
    "R12 = R2.T @ R1\n",
    "\n",
    "\n",
    "def omega_law(R, omega_a=np.array([0,0,0])):\n",
    "    Re = Ra.T @ R\n",
    "    Omega_a = so3_hat(omega_a)\n",
    "    return -kw*log_map_of_R(Re) + Re.T@Omega_a@Re\n",
    "\n",
    "dt = 0.01\n",
    "tf = 10\n",
    "its = int(tf/dt)\n",
    "\n",
    "tlist = np.linspace(0,dt*its,its)\n",
    "\n",
    "R1_data = np.zeros((len(tlist),3,3))\n",
    "R2_data = np.zeros((len(tlist),3,3))\n",
    "R12_data = np.zeros((len(tlist),3,3))\n",
    "\n",
    "R12_norm_data = np.zeros((len(tlist)))\n",
    "R12_norm_pred_data = np.zeros((len(tlist)))\n",
    "\n",
    "for i,t in enumerate(tlist):\n",
    "    if i == 0:\n",
    "        R1_data[i,:,:] = R1\n",
    "        R2_data[i,:,:] = R2\n",
    "        R12_data[i,:,:] = R12\n",
    "        R12_norm_data[i] = theta_distance_from_R(R12)\n",
    "        R12_norm_pred_data[i] = theta_distance_from_R(R12)\n",
    "\n",
    "    else:\n",
    "        Omega_1 = omega_law(R1_data[i-1,:,:])\n",
    "        Omega_2 = omega_law(R2_data[i-1,:,:])\n",
    "\n",
    "        R1_data[i,:,:] = R1_data[i-1,:,:]@exp_map(Omega_1*dt)\n",
    "        R2_data[i,:,:] = R2_data[i-1,:,:]@exp_map(Omega_2*dt)\n",
    "\n",
    "        #Omega_12 = (Omega_1 - R12_comp.T @ Omega_2 @ R12_comp)\n",
    "        Omega_12 = -kw*so3_hat(so3_vee(log_map_of_R(Ra.T @  R1_data[i-1,:,:])) - R12_data[i-1,:,:].T @ so3_vee(log_map_of_R(Ra.T @ R2_data[i-1,:,:])))\n",
    "        R12_data[i,:,:] = R12_data[i-1,:,:]@exp_map(Omega_12*dt)\n",
    "        \n",
    "        R12_norm_data[i] = theta_distance_from_R(R2_data[i,:,:].T@R1_data[i,:,:])\n",
    "        R12_norm_pred_data[i] = theta_distance_from_R(R12_data[i,:,:])\n",
    "\n",
    "with np.printoptions(precision=3, suppress=True):\n",
    "    print(Ra.T@R1_data[-1,:,:])\n",
    "\n",
    "plt.plot(tlist, R12_norm_data)\n",
    "plt.plot(tlist, R12_norm_pred_data)\n",
    "plt.show()"
   ]
  }
 ],
 "metadata": {
  "kernelspec": {
   "display_name": "Python 3",
   "language": "python",
   "name": "python3"
  },
  "language_info": {
   "codemirror_mode": {
    "name": "ipython",
    "version": 3
   },
   "file_extension": ".py",
   "mimetype": "text/x-python",
   "name": "python",
   "nbconvert_exporter": "python",
   "pygments_lexer": "ipython3",
   "version": "3.11.4"
  }
 },
 "nbformat": 4,
 "nbformat_minor": 2
}
